{
 "cells": [
  {
   "cell_type": "markdown",
   "metadata": {},
   "source": [
    "## Spaghetti Plots and Postage Stamps with Python ##\n",
    "**Tyler Wixtrom**<br>\n",
    "*Texas Tech University*<br>\n",
    "\n",
    "Unidata Users Workshop<br>\n",
    "*June 25-28, 2018<br>\n",
    "Boulder, CO*\n",
    "\n",
    "In this example, we will look at the simplest form of ensemble visualization, spaghetti plots, while using python loops and list comprehension to simplify creating these plots. To get started, we will need to download some [data](https://drive.google.com/open?id=11I31FX3cZNZ12dTRG-4g4r6ZReywdE2k)."
   ]
  },
  {
   "cell_type": "code",
   "execution_count": null,
   "metadata": {},
   "outputs": [],
   "source": [
    "import numpy as np\n",
    "from datetime import datetime\n",
    "from netCDF4 import Dataset, num2date"
   ]
  },
  {
   "cell_type": "markdown",
   "metadata": {},
   "source": [
    "### Data ###\n",
    "\n",
    "To get started, we will need to bring in some data. The included sample data is from a 20-member multi-physics ensemble initialized at 12 UTC on 1 February 2015. To start, lets look at what data is available. The data for each ensemble member is contained in its own netCDF4 file found in the sample dataset. We will use the [netCDF4-python](http://unidata.github.io/netcdf4-python/) package to open each member."
   ]
  },
  {
   "cell_type": "code",
   "execution_count": null,
   "metadata": {},
   "outputs": [],
   "source": [
    "data = data = Dataset('../2015020112/wrfprst_d01_2015020112_mem1.nc')\n",
    "print(list(data.variables))"
   ]
  },
  {
   "cell_type": "code",
   "execution_count": null,
   "metadata": {},
   "outputs": [],
   "source": [
    "print(data.variables['height'])\n",
    "print(data.variables['pressure_levels'])\n",
    "print(data.variables['pressure_levels'][:])"
   ]
  },
  {
   "cell_type": "markdown",
   "metadata": {},
   "source": [
    "We can see that each file contains several variables, one of which is the geopotential height on the 500 hPa surface. For this example, we will need to open the 500 hPa height fields from each of the forecast members. This will be done with the aid of a loop and a dictionary."
   ]
  },
  {
   "cell_type": "code",
   "execution_count": null,
   "metadata": {
    "ExecuteTime": {
     "end_time": "2018-05-29T17:17:16.492204Z",
     "start_time": "2018-05-29T17:17:12.597902Z"
    }
   },
   "outputs": [],
   "source": [
    "heights = {}\n",
    "for i in range(1, 21):\n",
    "    data = Dataset('../2015020112/wrfprst_d01_2015020112_mem'+str(i)+'.nc')\n",
    "    heights['mem'+str(i)] = data.variables['height'][:].data"
   ]
  },
  {
   "cell_type": "markdown",
   "metadata": {},
   "source": [
    "Since the grid and time coordinates are the same for all members, we will open the latitude, longitude, and time arrays once and use them as the reference for all members"
   ]
  },
  {
   "cell_type": "code",
   "execution_count": null,
   "metadata": {
    "ExecuteTime": {
     "end_time": "2018-05-29T17:17:16.536271Z",
     "start_time": "2018-05-29T17:17:16.496716Z"
    }
   },
   "outputs": [],
   "source": [
    "lat = data.variables['lat'][0, :]\n",
    "lon = data.variables['lon'][0, :]\n",
    "vtimes = num2date(data.variables['valid_time'][:], data.variables['valid_time'].units)"
   ]
  },
  {
   "cell_type": "markdown",
   "metadata": {},
   "source": [
    "### Create the Plots ###\n",
    "To create the spaghetti plots, we will use the [Cartopy](https://scitools.org.uk/cartopy/docs/latest/) package for geographic reference, and the [Matplotlib](https://matplotlib.org) package for plotting."
   ]
  },
  {
   "cell_type": "code",
   "execution_count": null,
   "metadata": {
    "ExecuteTime": {
     "end_time": "2018-05-29T17:17:27.532403Z",
     "start_time": "2018-05-29T17:17:27.525767Z"
    }
   },
   "outputs": [],
   "source": [
    "%matplotlib inline\n",
    "import matplotlib.pyplot as plt\n",
    "import matplotlib.patches as mpatches\n",
    "import cartopy.crs as ccrs\n",
    "import cartopy.feature as cfeature\n",
    "\n",
    "# Set up our projection\n",
    "plotcrs = ccrs.LambertConformal(central_longitude=-100.0, central_latitude=45.0)\n",
    "\n",
    "# Get data to plot state and province boundaries\n",
    "states_provinces = cfeature.NaturalEarthFeature(\n",
    "    category='cultural',\n",
    "    name='admin_1_states_provinces_lakes',\n",
    "    scale='50m',\n",
    "    facecolor='none')"
   ]
  },
  {
   "cell_type": "code",
   "execution_count": null,
   "metadata": {
    "ExecuteTime": {
     "end_time": "2018-05-29T17:17:34.379604Z",
     "start_time": "2018-05-29T17:17:28.108606Z"
    }
   },
   "outputs": [],
   "source": [
    "# Choose a time to plot\n",
    "time = -1\n",
    "\n",
    "# Set up the figure and add a map background\n",
    "fig = plt.figure(1, figsize=(17., 12.))\n",
    "ax = plt.subplot(111, projection=plotcrs)\n",
    "ax.set_extent((-123, -74, 25, 51), ccrs.PlateCarree())\n",
    "ax.coastlines('50m', edgecolor='black', linewidth=0.75)\n",
    "ax.add_feature(states_provinces, edgecolor='black', linewidth=0.5)\n",
    "\n",
    "# Plot the desired contours for each member\n",
    "for i in range(1, 21):\n",
    "    contours = np.array([5400, 5520, 5640, 5700])\n",
    "    ax.contour(lon, lat, heights['mem'+str(i)][time, 0,], contours, colors=['tab:red', 'tab:orange',\n",
    "                                                                            'tab:blue',  'tab:green'],\n",
    "               transform=ccrs.PlateCarree())\n",
    "\n",
    "# Add each contour color to the legend\n",
    "red_patch = mpatches.Patch(color='tab:red', label='5400 m')\n",
    "orange_patch = mpatches.Patch(color='tab:orange', label='5520 m')\n",
    "blue_patch = mpatches.Patch(color='tab:blue', label='5640 m')\n",
    "green_patch = mpatches.Patch(color='tab:green', label='5700 m')\n",
    "plt.legend(handles=[red_patch, orange_patch, blue_patch, green_patch], loc=1)\n",
    "\n",
    "# Make some titles\n",
    "plt.title('Ensemble 500 hPa Height Spaghetti Plot', loc='left')\n",
    "plt.title('VALID: %s' % (vtimes[time]), loc='right')\n",
    "plt.show()"
   ]
  },
  {
   "cell_type": "markdown",
   "metadata": {},
   "source": [
    "### Your Turn! ###\n",
    "\n",
    "Try making a spaghetti plot of the 992, 1000, and 1008 hPa contours of MSLP."
   ]
  },
  {
   "cell_type": "code",
   "execution_count": null,
   "metadata": {},
   "outputs": [],
   "source": [
    "mslp = {}\n",
    "for i in range(1, 21):\n",
    "    data = Dataset('../2015020112/wrfprst_d01_2015020112_mem'+str(i)+'.nc')\n",
    "    mslp[] =         ######## Complete This Line #########"
   ]
  },
  {
   "cell_type": "code",
   "execution_count": null,
   "metadata": {},
   "outputs": [],
   "source": [
    "# Choose a time to plot\n",
    "time = 5\n",
    "\n",
    "# Set up the figure and add a map background\n",
    "fig = plt.figure(1, figsize=(17., 12.))\n",
    "ax = plt.subplot(111, projection=plotcrs)\n",
    "ax.set_extent((-123, -74, 25, 51), ccrs.PlateCarree())\n",
    "ax.coastlines('50m', edgecolor='black', linewidth=0.75)\n",
    "ax.add_feature(states_provinces, edgecolor='black', linewidth=0.5)\n",
    "\n",
    "# Plot the desired contours for each member\n",
    "for i in range(1, 21):\n",
    "    \n",
    "    # Choose the contours to plot\n",
    "    contours = np.array([]) ######### Complete This Line #########\n",
    "\n",
    "    # Fill in the blanks to plot the MSLP for each member\n",
    "    ax.contour(lon, lat, mslp[][time,], ######## Complete This Line ##########\n",
    "               contours, \n",
    "               colors=['tab:red', 'tab:orange', 'tab:green'],\n",
    "               transform=ccrs.PlateCarree())\n",
    "\n",
    "# Add each contour color to the legend\n",
    "red_patch = mpatches.Patch(color='tab:red', label='1000 hPa')\n",
    "orange_patch = mpatches.Patch(color='tab:orange', label='1008 hPa')\n",
    "green_patch = mpatches.Patch(color='tab:green', label='1016 hPa')\n",
    "plt.legend(handles=[red_patch, orange_patch, green_patch], loc=1)\n",
    "\n",
    "# Make some titles\n",
    "plt.title('Ensemble Mean Sea Level Pressure Spaghetti Plot', loc='left')\n",
    "plt.title('VALID: %s' % (vtimes[time]), loc='right')\n",
    "plt.show()"
   ]
  },
  {
   "cell_type": "markdown",
   "metadata": {},
   "source": [
    "### Solution ###"
   ]
  },
  {
   "cell_type": "code",
   "execution_count": null,
   "metadata": {},
   "outputs": [],
   "source": [
    "# %load solutions/spaghetti_solution.py"
   ]
  },
  {
   "cell_type": "markdown",
   "metadata": {},
   "source": [
    "## Postage Stamps ##\n",
    "\n",
    "To explore the use of postage stamp plots, let's start by creating a plot of simulated reflectivity"
   ]
  },
  {
   "cell_type": "code",
   "execution_count": null,
   "metadata": {
    "ExecuteTime": {
     "end_time": "2018-05-29T17:17:16.492204Z",
     "start_time": "2018-05-29T17:17:12.597902Z"
    }
   },
   "outputs": [],
   "source": [
    "refl = {}\n",
    "for i in range(1, 21):\n",
    "    data = Dataset('../2015020112/wrfprst_d01_2015020112_mem'+str(i)+'.nc')\n",
    "    refl['mem'+str(i)] = data.variables['DBZ'][:].data"
   ]
  },
  {
   "cell_type": "markdown",
   "metadata": {},
   "source": [
    "Next, we will import matplotlib and cartopy to create the projection and map background for each panel"
   ]
  },
  {
   "cell_type": "code",
   "execution_count": null,
   "metadata": {},
   "outputs": [],
   "source": [
    "# Set up our projection\n",
    "plotcrs = ccrs.LambertConformal(central_longitude=-100.0, central_latitude=45.0)\n",
    "\n",
    "# Get data to plot state and province boundaries\n",
    "states_provinces = cfeature.NaturalEarthFeature(\n",
    "    category='cultural',\n",
    "    name='admin_1_states_provinces_lakes',\n",
    "    scale='50m',\n",
    "    facecolor='none')"
   ]
  },
  {
   "cell_type": "markdown",
   "metadata": {},
   "source": [
    "Postage stamp plots are simply multi-panel plots with one panel for each ensemble member, which allows fo quick interpretation of each ensemble member solution. To create this plot, we will use a helper function which will create all of the needed axis objects in matplotlib"
   ]
  },
  {
   "cell_type": "code",
   "execution_count": null,
   "metadata": {},
   "outputs": [],
   "source": [
    "def plot_panels(figsize, layout, num_axes, projection=None):\n",
    "    \"\"\"Generate matplotlib axis object for a given figsize and layout\n",
    "    figsize: tuple\n",
    "        tuple of the figure size\n",
    "    layout: tuple\n",
    "        layout that should be passed to figure.add_subplot\n",
    "    num_axes: int\n",
    "        number of axes        \n",
    "        \n",
    "    Returns:\n",
    "        original figure object and list of axis objects corresponding to each axis in the input layout\n",
    "    \n",
    "    \"\"\"\n",
    "    import matplotlib.pyplot as plt\n",
    "    fig = plt.figure(figsize=figsize)\n",
    "    ret = []\n",
    "    for i in range(num_axes):\n",
    "        ax = fig.add_subplot(layout[0], layout[1], i+1, projection=projection)\n",
    "        ret.append(ax)\n",
    "    return fig, ret"
   ]
  },
  {
   "cell_type": "markdown",
   "metadata": {},
   "source": [
    "To create the plot, we will first create all of the axes with the aid of the function defined above. Then, each member along with the map background will be plotted on it's own subplot in a loop. Finally, we will add a colorbar and title to the figure."
   ]
  },
  {
   "cell_type": "code",
   "execution_count": null,
   "metadata": {},
   "outputs": [],
   "source": [
    "# Choose a time to plot\n",
    "time = 2\n",
    "contours = np.arange(10,  70, 10)\n",
    "\n",
    "fig, axes = plot_panels((20, 10), (4, 5), 20, projection=plotcrs)\n",
    "cmap = plt.cm.viridis\n",
    "\n",
    "# Plot the desired contours for each member\n",
    "for i in range(20):\n",
    "    # Set up the figure and add a map background\n",
    "    axes[i].set_extent((-123, -74, 25, 51), ccrs.PlateCarree())\n",
    "    axes[i].coastlines('50m', edgecolor='black', linewidth=0.75)\n",
    "    axes[i].add_feature(states_provinces, edgecolor='black', linewidth=0.5)\n",
    "    cf = axes[i].contourf(lon, lat, refl['mem'+str(i+1)][time,], contours, cmap=cmap, transform=ccrs.PlateCarree())\n",
    "    axes[i].set_title('Member '+str(i+1))\n",
    "\n",
    "# Add a colorbar\n",
    "fig.subplots_adjust(bottom=0.2)\n",
    "cbax = fig.add_axes([0.2, 0.15, 0.6, 0.02])\n",
    "cb = fig.colorbar(cf, cax=cbax, orientation='horizontal', shrink=0.1, pad=0.05)\n",
    "\n",
    "# Make some titles\n",
    "plt.suptitle('Ensemble Postage Stamps of Reflectivity Initialized %s' %( vtimes[0]) +' VALID: %s' % (vtimes[time]), fontsize=16, y=0.95)\n",
    "plt.show()"
   ]
  },
  {
   "cell_type": "markdown",
   "metadata": {},
   "source": [
    "## Ensemble Plumes ##\n",
    "\n",
    "In this example, we look at a different type of spaghetti plot known as ensemble plumes. Like the spaghetti plot above, we will plot all members on a single graph, but this time it will be for a single point through all forecast hours."
   ]
  },
  {
   "cell_type": "markdown",
   "metadata": {},
   "source": [
    "### Choosing a Point ###\n",
    "\n",
    "First, we will need to choose a location and find the grid point nearest. This will be done with the aid of the following function, courtesy of Kevin Goebbert, Valparaiso University."
   ]
  },
  {
   "cell_type": "code",
   "execution_count": null,
   "metadata": {},
   "outputs": [],
   "source": [
    "def lat_lon_2D_index(y, x, lat1, lon1):\n",
    "    \"\"\"\n",
    "    This function calculates the distance from a desired lat/lon point\n",
    "    to each element of a 2D array of lat/lon values, typically from model output,\n",
    "    and determines the index value corresponding to the nearest lat/lon grid point.\n",
    "    x = longitude array\n",
    "    y = latitude array\n",
    "    lon1 = longitude point (signle value)\n",
    "    lat1 = latitude point (single value)\n",
    "    Returns the index value for nearest lat/lon point on grid\n",
    "    Equations for variable distiance between longitudes from\n",
    "    http://andrew.hedges.name/experiments/haversine/\n",
    "    \"\"\"\n",
    "    R = 6373.*1000.  # Earth's Radius in meters\n",
    "    rad = np.pi/180.\n",
    "    x1 = np.ones(x.shape)*lon1\n",
    "    y1 = np.ones(y.shape)*lat1\n",
    "    dlon = np.abs(x-x1)\n",
    "    dlat = np.abs(y-y1)\n",
    "    a = (np.sin(rad*dlat/2.))**2 + np.cos(rad*y1) * np.cos(rad*y) * (np.sin(rad*dlon/2.))**2\n",
    "    c = 2 * np.arctan2( np.sqrt(a), np.sqrt(1-a))\n",
    "    d = R * c\n",
    "    return np.unravel_index(d.argmin(), d.shape)"
   ]
  },
  {
   "cell_type": "markdown",
   "metadata": {},
   "source": [
    "Now lets find the index values for the grid point closest to Lansing, MI (42.78 N, -84.59 E) and subset the original data."
   ]
  },
  {
   "cell_type": "code",
   "execution_count": null,
   "metadata": {},
   "outputs": [],
   "source": [
    "idx = lat_lon_2D_index(lat, lon, 42.78, -84.59)"
   ]
  },
  {
   "cell_type": "markdown",
   "metadata": {},
   "source": [
    "With the index of the grid point nearest to Lansing, MI determined, we will now load the precipitation data and subset to the specified grid point."
   ]
  },
  {
   "cell_type": "code",
   "execution_count": null,
   "metadata": {},
   "outputs": [],
   "source": [
    "pcp = {}\n",
    "for i in range(1, 21):\n",
    "    data = Dataset('../2015020112/wrfprst_d01_2015020112_mem'+str(i)+'.nc')\n",
    "    pcp['mem'+str(i)] = data.variables['tot_pcp'][:-8, idx[0], idx[1]].data"
   ]
  },
  {
   "cell_type": "markdown",
   "metadata": {},
   "source": [
    "Before plotting, let's calculate the ensemble mean precipitation"
   ]
  },
  {
   "cell_type": "code",
   "execution_count": null,
   "metadata": {},
   "outputs": [],
   "source": [
    "mean_pcp = np.mean([pcp[key] for key in pcp.keys()], axis=0)"
   ]
  },
  {
   "cell_type": "code",
   "execution_count": null,
   "metadata": {},
   "outputs": [],
   "source": [
    "fig = plt.figure(1, figsize=(17., 10.))\n",
    "for i in range(1, 21):\n",
    "    plt.plot(vtimes[:-8], pcp['mem'+str(i)], label='mem'+str(i))\n",
    "plt.plot(vtimes[:-8], mean_pcp, label='Mean', color='k', linewidth=4)\n",
    "plt.xlim(datetime(2015, 2, 1, 12), datetime(2015, 2, 2, 12))\n",
    "plt.ylabel('Accumulated Precipitation (mm)')\n",
    "plt.title('Ensemble Precipitation Plume for Lansing Capital Region International Airport (KLAN)')\n",
    "plt.grid()\n",
    "plt.legend()\n",
    "plt.show()"
   ]
  },
  {
   "cell_type": "code",
   "execution_count": null,
   "metadata": {},
   "outputs": [],
   "source": []
  }
 ],
 "metadata": {
  "kernelspec": {
   "display_name": "Python 3",
   "language": "python",
   "name": "python3"
  },
  "language_info": {
   "codemirror_mode": {
    "name": "ipython",
    "version": 3
   },
   "file_extension": ".py",
   "mimetype": "text/x-python",
   "name": "python",
   "nbconvert_exporter": "python",
   "pygments_lexer": "ipython3",
   "version": "3.6.5"
  }
 },
 "nbformat": 4,
 "nbformat_minor": 2
}
