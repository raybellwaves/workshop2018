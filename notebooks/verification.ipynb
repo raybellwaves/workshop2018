{
 "cells": [
  {
   "cell_type": "markdown",
   "metadata": {},
   "source": [
    "## Verification in Python ##\n",
    "**Tyler Wixtrom**<br>\n",
    "*Texas Tech University*<br>\n",
    "tyler.wixtrom@ttu.edu<br>\n",
    "\n",
    "Unidata Users Workshop<br>\n",
    "*June 25-28, 2018<br>\n",
    "Boulder, CO*\n",
    "\n",
    "The final type of visualization we will explore is that of ensemble verification. In the example, we will perform one of the simplest verification techniques, Root Mean Square Error (RMSE), comparing observed precipitation to both the ensemble mean precipitation and individual members.\n"
   ]
  },
  {
   "cell_type": "code",
   "execution_count": null,
   "metadata": {},
   "outputs": [],
   "source": [
    "from datetime import datetime\n",
    "from netCDF4 import Dataset, num2date\n",
    "\n",
    "import numpy as np\n",
    "import matplotlib.pyplot as plt"
   ]
  },
  {
   "cell_type": "markdown",
   "metadata": {},
   "source": [
    "### Ensemble Precipitation Plume ###\n",
    "We will start with the precipitation plume that was created in a previous example."
   ]
  },
  {
   "cell_type": "code",
   "execution_count": null,
   "metadata": {},
   "outputs": [],
   "source": [
    "data = Dataset('../2015020112/wrfprst_d01_2015020112_mem1.nc')\n",
    "lat = data.variables['lat'][0, :]\n",
    "lon = data.variables['lon'][0, :]\n",
    "vtimes = num2date(data.variables['valid_time'][:], data.variables['valid_time'].units)"
   ]
  },
  {
   "cell_type": "code",
   "execution_count": null,
   "metadata": {},
   "outputs": [],
   "source": [
    "def lat_lon_2D_index(y, x, lat1, lon1):\n",
    "    \"\"\"\n",
    "    This function calculates the distance from a desired lat/lon point\n",
    "    to each element of a 2D array of lat/lon values, typically from model output,\n",
    "    and determines the index value corresponding to the nearest lat/lon grid point.\n",
    "    x = longitude array\n",
    "    y = latitude array\n",
    "    lon1 = longitude point (signle value)\n",
    "    lat1 = latitude point (single value)\n",
    "    Returns the index value for nearest lat/lon point on grid\n",
    "    Equations for variable distiance between longitudes from\n",
    "    http://andrew.hedges.name/experiments/haversine/\n",
    "    \"\"\"\n",
    "    R = 6373.*1000.  # Earth's Radius in meters\n",
    "    rad = np.pi/180.\n",
    "    x1 = np.ones(x.shape)*lon1\n",
    "    y1 = np.ones(y.shape)*lat1\n",
    "    dlon = np.abs(x-x1)\n",
    "    dlat = np.abs(y-y1)\n",
    "    a = (np.sin(rad*dlat/2.))**2 + np.cos(rad*y1) * np.cos(rad*y) * (np.sin(rad*dlon/2.))**2\n",
    "    c = 2 * np.arctan2( np.sqrt(a), np.sqrt(1-a))\n",
    "    d = R * c\n",
    "    return np.unravel_index(d.argmin(), d.shape)"
   ]
  },
  {
   "cell_type": "code",
   "execution_count": null,
   "metadata": {},
   "outputs": [],
   "source": [
    "idx = lat_lon_2D_index(lat, lon, 42.78, -84.59)\n",
    "\n",
    "pcp = {}\n",
    "for i in range(1, 21):\n",
    "    data = Dataset('../2015020112/wrfprst_d01_2015020112_mem'+str(i)+'.nc')\n",
    "    pcp['mem'+str(i)] = data.variables['tot_pcp'][:-8, idx[0], idx[1]].data\n",
    "\n",
    "mean_pcp = np.mean([pcp[key] for key in pcp.keys()], axis=0)"
   ]
  },
  {
   "cell_type": "code",
   "execution_count": null,
   "metadata": {},
   "outputs": [],
   "source": [
    "fig = plt.figure(1, figsize=(17., 10.))\n",
    "for i in range(1, 21):\n",
    "    plt.plot(vtimes[:-8], pcp['mem'+str(i)], label='mem'+str(i))\n",
    "plt.plot(vtimes[:-8], mean_pcp, label='Mean', color='k', linewidth=4)\n",
    "plt.xlim(datetime(2015, 2, 1, 12), datetime(2015, 2, 2, 12))\n",
    "plt.ylabel('Accumulated Precipitation (mm)')\n",
    "plt.title('Ensemble Precipitation Plume for Lansing Capital Region International Airport (KLAN)')\n",
    "plt.grid()\n",
    "plt.legend()\n",
    "plt.show()"
   ]
  },
  {
   "cell_type": "markdown",
   "metadata": {},
   "source": [
    "### Observed Precipitation Data ###\n",
    "To verify the ensemble precipitation, we will use archived surface ASOS observations from the KLAN station provided by the [Iowa State University Iowa Environmental Mesonet](https://mesonet.agron.iastate.edu/archive/) archive. This data is in .csv format, so we will use the [Pandas](https://pandas.pydata.org/pandas-docs/stable/index.html) package to open and reformat it."
   ]
  },
  {
   "cell_type": "code",
   "execution_count": null,
   "metadata": {},
   "outputs": [],
   "source": [
    "import pandas as pd\n",
    "obs = pd.read_csv('../2015020112/klan_pcp.csv', names=['Station', 'Time', 'Precipitation'], skiprows=1)\n",
    "obs"
   ]
  },
  {
   "cell_type": "code",
   "execution_count": null,
   "metadata": {},
   "outputs": [],
   "source": [
    "obs_pcp = pd.concat((pd.Series(0), obs['Precipitation']))\n",
    "obs_pcp_sum = obs_pcp.cumsum()\n",
    "obs_pcp_sum_03h = obs_pcp_sum[::3]\n",
    "obs_pcp_sum_03h"
   ]
  },
  {
   "cell_type": "markdown",
   "metadata": {},
   "source": [
    "With the observed precipitation data opened and reformatted, lets plot it along with the ensemble members and mean on the plume to compare each forecast member with the observed precipitation."
   ]
  },
  {
   "cell_type": "code",
   "execution_count": null,
   "metadata": {},
   "outputs": [],
   "source": [
    "fig = plt.figure(1, figsize=(17., 10.))\n",
    "for i in range(1, 21):\n",
    "    plt.plot(vtimes[:-8], pcp['mem'+str(i)], label='mem'+str(i))\n",
    "plt.plot(vtimes[:-8], mean_pcp, label='Mean', color='k', linewidth=4)\n",
    "plt.plot(vtimes[:-8], obs_pcp_sum_03h, label='Observed', color='tab:red', linewidth=4)\n",
    "plt.xlim(datetime(2015, 2, 1, 12), datetime(2015, 2, 2, 12))\n",
    "plt.ylabel('Accumulated Precipitation (mm)')\n",
    "plt.title('Ensemble Precipitation Plume for Lansing Capital Region International Airport (KLAN)')\n",
    "plt.grid()\n",
    "plt.legend()\n",
    "plt.show()"
   ]
  },
  {
   "cell_type": "markdown",
   "metadata": {},
   "source": [
    "### Forecast Error ###\n",
    "We can start to quantify the quality of the ensemble forecast by calculating the forecast error of each member:\n",
    "\\begin{equation}\n",
    "Error = F - A\n",
    "\\end{equation}"
   ]
  },
  {
   "cell_type": "code",
   "execution_count": null,
   "metadata": {},
   "outputs": [],
   "source": [
    "error = {}\n",
    "for i in range(1, 21):\n",
    "    error['mem'+str(i)] = pcp['mem'+str(i)] - obs_pcp_sum_03h\n",
    "    \n",
    "mean_error = mean_pcp - obs_pcp_sum_03h"
   ]
  },
  {
   "cell_type": "markdown",
   "metadata": {},
   "source": [
    "Now we can plot the timeseries of member error as well as error of the ensemble mean."
   ]
  },
  {
   "cell_type": "code",
   "execution_count": null,
   "metadata": {},
   "outputs": [],
   "source": [
    "fig = plt.figure(1, figsize=(17., 10.))\n",
    "for i in range(1, 21):\n",
    "    plt.plot(vtimes[:-8], error['mem'+str(i)], label='mem'+str(i))\n",
    "plt.plot(vtimes[:-8], mean_error, label='Mean', color='k', linewidth=4)\n",
    "plt.xlim(datetime(2015, 2, 1, 12), datetime(2015, 2, 2, 12))\n",
    "plt.ylabel('Accumulated Precipitation (mm)')\n",
    "plt.title('Ensemble Precipitation Error for Lansing Capital Region International Airport (KLAN)')\n",
    "plt.grid()\n",
    "plt.legend()\n",
    "plt.show()"
   ]
  },
  {
   "cell_type": "markdown",
   "metadata": {},
   "source": [
    "Clearly the ensemble is overforecasting precipitation for this location and event. We can quantify the error in each member as well as the mean with the Root Mean Square Error and compare each member."
   ]
  },
  {
   "cell_type": "markdown",
   "metadata": {},
   "source": [
    "### Root Mean Square Error (RMSE) ###\n",
    "[The Root Mean Square Error](http://statweb.stanford.edu/~susan/courses/s60/split/node60.html) is simply the mean difference between the predicted values and the observed values. This can be applied to both the individual members and the ensemble mean."
   ]
  },
  {
   "cell_type": "code",
   "execution_count": null,
   "metadata": {},
   "outputs": [],
   "source": [
    "def rmse(predictions, targets):\n",
    "    return np.sqrt(((predictions - targets) ** 2).mean())"
   ]
  },
  {
   "cell_type": "markdown",
   "metadata": {},
   "source": [
    "Typically, verification statistics are computed for a single lead time over multiple locations and forecasts. For this example, we will simply evaluate the performance of the ensemble in forecasting the above observed precipitation accumulation."
   ]
  },
  {
   "cell_type": "code",
   "execution_count": null,
   "metadata": {},
   "outputs": [],
   "source": [
    "mean_rmse = rmse(mean_pcp, pcp_03h)\n",
    "ens_rmse = {}\n",
    "for mem in pcp.keys():\n",
    "    ens_rmse[mem] = rmse(pcp[mem], pcp_03h)"
   ]
  },
  {
   "cell_type": "code",
   "execution_count": null,
   "metadata": {},
   "outputs": [],
   "source": [
    "fig = plt.figure(1, figsize=(17., 10.))\n",
    "members = ['Mean', *[key for key in ens_rmse.keys()]]\n",
    "y_pos = np.arange(len(members))\n",
    " \n",
    "plt.bar(y_pos, [mean_rmse, *[ens_rmse[key] for key in ens_rmse.keys()]], \n",
    "        align='center', alpha=0.8, color='tab:blue')\n",
    "plt.xticks(y_pos, members)\n",
    "plt.ylabel('RMSE')\n",
    "plt.title('RMSE of Accumulated Precipitation for KLAN 12 UTC 1 Feb 2015 - 12 UTC 2 Feb 2015')\n",
    "plt.grid() \n",
    "plt.show()"
   ]
  }
 ],
 "metadata": {
  "kernelspec": {
   "display_name": "Python 3",
   "language": "python",
   "name": "python3"
  },
  "language_info": {
   "codemirror_mode": {
    "name": "ipython",
    "version": 3
   },
   "file_extension": ".py",
   "mimetype": "text/x-python",
   "name": "python",
   "nbconvert_exporter": "python",
   "pygments_lexer": "ipython3",
   "version": "3.6.5"
  }
 },
 "nbformat": 4,
 "nbformat_minor": 2
}
