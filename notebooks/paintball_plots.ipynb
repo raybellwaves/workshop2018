{
 "cells": [
  {
   "cell_type": "markdown",
   "metadata": {},
   "source": [
    "## Paintball Plots in Python ##\n",
    "**Tyler Wixtrom**<br>\n",
    "*Texas Tech University*<br>\n",
    "tyler.wixtrom@ttu.edu<br>\n",
    "\n",
    "Unidata Users Workshop<br>\n",
    "*June 25-28, 2018<br>\n",
    "Boulder, CO*\n",
    "\n",
    "In this example, we will create paintball plots of simulated reflectivity greater than 25 dBz "
   ]
  },
  {
   "cell_type": "code",
   "execution_count": null,
   "metadata": {},
   "outputs": [],
   "source": [
    "import numpy as np\n",
    "import operator as op\n",
    "from netCDF4 import Dataset, num2date"
   ]
  },
  {
   "cell_type": "markdown",
   "metadata": {},
   "source": [
    "The data for each ensemble member is contained in its own netCDF4 file found in the sample dataset. We will use the [netCDF4-python](http://unidata.github.io/netcdf4-python/) package to open each member and store the data in a dictionary."
   ]
  },
  {
   "cell_type": "code",
   "execution_count": null,
   "metadata": {
    "ExecuteTime": {
     "end_time": "2018-05-29T17:17:16.492204Z",
     "start_time": "2018-05-29T17:17:12.597902Z"
    }
   },
   "outputs": [],
   "source": [
    "refl = {}\n",
    "for i in range(1, 21):\n",
    "    data = Dataset('../2015020112/wrfprst_d01_2015020112_mem'+str(i)+'.nc')\n",
    "    refl['mem'+str(i)] = data.variables['DBZ'][:].data"
   ]
  },
  {
   "cell_type": "code",
   "execution_count": null,
   "metadata": {
    "ExecuteTime": {
     "end_time": "2018-05-29T17:17:16.536271Z",
     "start_time": "2018-05-29T17:17:16.496716Z"
    }
   },
   "outputs": [],
   "source": [
    "lat = data.variables['lat'][0, :]\n",
    "lon = data.variables['lon'][0, :]\n",
    "vtimes = num2date(data.variables['valid_time'][:], data.variables['valid_time'].units)"
   ]
  },
  {
   "cell_type": "markdown",
   "metadata": {},
   "source": [
    "### Paintballs ###\n",
    "Paintball plots are simply scatter plots of thresholded data color-coded by ensemble member. This means that the first step will be to create a new set of data where a value of 1 represents a point greater than the threshold and a value of 0 represents a point less than the threshold."
   ]
  },
  {
   "cell_type": "code",
   "execution_count": null,
   "metadata": {},
   "outputs": [],
   "source": [
    "def paintballs(thresh, operator, *args):\n",
    "    \"\"\"Return masked fields for paintball plots\"\"\"\n",
    "    ret = []\n",
    "    for arg in args:\n",
    "        data = np.zeros_like(arg)\n",
    "        data[operator(arg, thresh)] = 1.\n",
    "        ret.append(data)\n",
    "    return ret"
   ]
  },
  {
   "cell_type": "code",
   "execution_count": null,
   "metadata": {},
   "outputs": [],
   "source": [
    "refl_paintballs = paintballs(25, op.gt, *[refl[key] for key in refl.keys()])"
   ]
  },
  {
   "cell_type": "markdown",
   "metadata": {},
   "source": [
    "### Plotting the Paintballs ###\n",
    "To create the paintball plots, we will use the [cartopy](https://scitools.org.uk/cartopy/docs/latest/) package for geographic reference, and the [Matplotlib](https://matplotlib.org) package for plotting."
   ]
  },
  {
   "cell_type": "code",
   "execution_count": null,
   "metadata": {
    "ExecuteTime": {
     "end_time": "2018-05-29T17:17:27.532403Z",
     "start_time": "2018-05-29T17:17:27.525767Z"
    }
   },
   "outputs": [],
   "source": [
    "%matplotlib inline\n",
    "import matplotlib.pyplot as plt\n",
    "import cartopy.crs as ccrs\n",
    "import cartopy.feature as cfeature\n",
    "\n",
    "# Set up our projection\n",
    "plotcrs = ccrs.LambertConformal(central_longitude=-100.0, central_latitude=45.0)\n",
    "\n",
    "# Get data to plot state and province boundaries\n",
    "states_provinces = cfeature.NaturalEarthFeature(\n",
    "    category='cultural',\n",
    "    name='admin_1_states_provinces_lakes',\n",
    "    scale='50m',\n",
    "    facecolor='none')"
   ]
  },
  {
   "cell_type": "code",
   "execution_count": null,
   "metadata": {
    "ExecuteTime": {
     "end_time": "2018-05-29T17:17:34.379604Z",
     "start_time": "2018-05-29T17:17:28.108606Z"
    }
   },
   "outputs": [],
   "source": [
    "# Choose a time to plot\n",
    "time = 2\n",
    "\n",
    "# Set up the figure and add a map background\n",
    "fig = plt.figure(1, figsize=(17., 12.))\n",
    "ax = plt.subplot(111, projection=plotcrs)\n",
    "ax.set_extent((-123, -74, 25, 51), ccrs.PlateCarree())\n",
    "ax.coastlines('50m', edgecolor='black', linewidth=0.75)\n",
    "ax.add_feature(states_provinces, edgecolor='black', linewidth=0.5)\n",
    "\n",
    "# Plot the paintballs\n",
    "for i in range(len(refl_paintballs)):\n",
    "    data = refl_paintballs[i][time,]\n",
    "    ax.scatter(lon[data == 1], lat[data == 1], data[data == 1], \n",
    "               transform=ccrs.PlateCarree(), label='mem'+str(i+1))\n",
    "\n",
    "# Make some titles and legend\n",
    "plt.title('Ensemble Member Paintballs Reflectivity > 25 dBz', loc='left')\n",
    "plt.title('VALID: %s' % (vtimes[time]), loc='right')\n",
    "plt.legend(loc=4)\n",
    "plt.show()"
   ]
  },
  {
   "cell_type": "markdown",
   "metadata": {},
   "source": [
    "### Your Turn! ###\n",
    "Fill in the blanks in the code below to plot paintballs of timestep accumulated precipitation greater than 10 mm for forecast hour 3"
   ]
  },
  {
   "cell_type": "code",
   "execution_count": null,
   "metadata": {},
   "outputs": [],
   "source": [
    "# Read in the data for timestep precipitation (timestep_pcp)\n",
    "pcp = {}\n",
    "for i in range(1, 21):\n",
    "    data = Dataset('../2015020112/wrfprst_d01_2015020112_mem'+str(i)+'.nc')\n",
    "    \n",
    "    # add in the correct variable name for timestep precipitation\n",
    "    pcp['mem'+str(i)] = data.variables[''][:].data          ###### Complete this line #########"
   ]
  },
  {
   "cell_type": "code",
   "execution_count": null,
   "metadata": {},
   "outputs": [],
   "source": [
    "# Create the thresholded fields (greater than 10 mm)\n",
    "pcp_paintballs = paintballs()        ##### Complete this line #########"
   ]
  },
  {
   "cell_type": "code",
   "execution_count": null,
   "metadata": {},
   "outputs": [],
   "source": [
    "# Plot the paintballs\n",
    "\n",
    "# Choose a time to plot\n",
    "time = \n",
    "\n",
    "# Set up the figure and add a map background\n",
    "fig = plt.figure(1, figsize=(17., 12.))\n",
    "ax = plt.subplot(111, projection=plotcrs)\n",
    "ax.set_extent((-123, -74, 25, 51), ccrs.PlateCarree())\n",
    "ax.coastlines('50m', edgecolor='black', linewidth=0.75)\n",
    "ax.add_feature(states_provinces, edgecolor='black', linewidth=0.5)\n",
    "\n",
    "# Plot the paintballs as in the above example\n",
    "for i in range(len(pcp_paintballs)):\n",
    "    ###### Add the plotting commands here #######\n",
    "\n",
    "# Make some titles and legend\n",
    "plt.title('Ensemble Member Paintballs Timestep Precipitation > 10 mm', loc='left')\n",
    "plt.title('VALID: %s' % (vtimes[time]), loc='right')\n",
    "plt.legend(loc=4)\n",
    "plt.show()"
   ]
  },
  {
   "cell_type": "code",
   "execution_count": null,
   "metadata": {},
   "outputs": [],
   "source": [
    "# %load solutions/paintballs_solution.py"
   ]
  }
 ],
 "metadata": {
  "kernelspec": {
   "display_name": "Python 3",
   "language": "python",
   "name": "python3"
  },
  "language_info": {
   "codemirror_mode": {
    "name": "ipython",
    "version": 3
   },
   "file_extension": ".py",
   "mimetype": "text/x-python",
   "name": "python",
   "nbconvert_exporter": "python",
   "pygments_lexer": "ipython3",
   "version": "3.6.5"
  }
 },
 "nbformat": 4,
 "nbformat_minor": 2
}
