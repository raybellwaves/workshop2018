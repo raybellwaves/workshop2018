{
 "cells": [
  {
   "cell_type": "markdown",
   "metadata": {
    "slideshow": {
     "slide_type": "slide"
    }
   },
   "source": [
    "## Ensemble Visualization and Verification in Python \n",
    "**Tyler Wixtrom**<br>\n",
    "Texas Tech University<br>\n",
    "tyler.wixtrom@ttu.edu<br>\n",
    "<br>\n",
    "**Unidata Users Workshop**<br>\n",
    "25-28 June 2018<br>\n",
    "Boulder, CO"
   ]
  },
  {
   "cell_type": "markdown",
   "metadata": {
    "slideshow": {
     "slide_type": "slide"
    }
   },
   "source": [
    "   # Overview #\n",
    "\n",
    "1. Plots\n",
    "    * Spaghetti Plots and Postage Stamps\n",
    "    * Paintball Plots\n",
    "    * Probability Plots\n",
    "2. Verification\n",
    "    * RMSE\n",
    "3. Examples"
   ]
  },
  {
   "cell_type": "markdown",
   "metadata": {
    "slideshow": {
     "slide_type": "slide"
    }
   },
   "source": [
    "<h1><center>Examples and Data Repository</center></h1>\n",
    "<br>\n",
    "<br>\n",
    "<center>\n",
    "<href>https://github.com/tjwixtrom/workshop2018</href></center>"
   ]
  },
  {
   "cell_type": "markdown",
   "metadata": {
    "slideshow": {
     "slide_type": "slide"
    }
   },
   "source": [
    "<h1><center>Spaghetti Plots and Postage Stamps</center></h1>"
   ]
  },
  {
   "cell_type": "markdown",
   "metadata": {
    "slideshow": {
     "slide_type": "subslide"
    }
   },
   "source": [
    "Spaghetti plots and postage stamp plots are both concise,\n",
    "simple methods of viewing all members in a ensemble on the same plot. \n",
    "\n",
    "Spaghetti plots are generally used for contoured\n",
    "fields (e.g. 500 hPa geopotential height) while postage stamps\n",
    "are more commonly reserved for shaded fields (e.g. simulated\n",
    "reflectivity)."
   ]
  },
  {
   "cell_type": "markdown",
   "metadata": {
    "slideshow": {
     "slide_type": "subslide"
    }
   },
   "source": [
    "<center>\n",
    "![spaghetti](spaghetti.png \"Example 500 hPa Spaghetti Plot\")\n",
    "</center>"
   ]
  },
  {
   "cell_type": "markdown",
   "metadata": {
    "slideshow": {
     "slide_type": "subslide"
    }
   },
   "source": [
    "<center>\n",
    "![](postage_stamp.png)\n",
    "</center>"
   ]
  },
  {
   "cell_type": "markdown",
   "metadata": {
    "slideshow": {
     "slide_type": "subslide"
    }
   },
   "source": [
    "Advantages\n",
    "* Displays information from each individual member\n",
    "* Full location and magnitude of each field is plotted\n",
    "* Simple to interpret\n",
    "<br>\n",
    "<br>\n",
    "\n",
    "Disadvantages\n",
    "* Can be very busy\n",
    "* Becomes increasingly hard to interpret as spread increases\n",
    "* Easy to miss small differences among members (esp. postage stamps)"
   ]
  },
  {
   "cell_type": "markdown",
   "metadata": {
    "slideshow": {
     "slide_type": "slide"
    }
   },
   "source": [
    "<h1><center>Paintball Plots</center></h1>"
   ]
  },
  {
   "cell_type": "markdown",
   "metadata": {
    "slideshow": {
     "slide_type": "subslide"
    }
   },
   "source": [
    "Paintball plots are plots where individual points greater than a specified threshold (e.g. simulated reflectivity $\\geq$ 25 dBZ) are plotted, color-coded by ensemble member."
   ]
  },
  {
   "cell_type": "markdown",
   "metadata": {
    "slideshow": {
     "slide_type": "subslide"
    }
   },
   "source": [
    "<center>\n",
    "![](paintballs.png)\n",
    "</center>"
   ]
  },
  {
   "cell_type": "markdown",
   "metadata": {
    "slideshow": {
     "slide_type": "subslide"
    }
   },
   "source": [
    "Advantages\n",
    "* Easy to quickly see spatial variations among individual member solutions\n",
    "* Plot remains relatively uncluttered, even for ensembles with many members\n",
    "<br>\n",
    "<br>\n",
    "\n",
    "Disadvantages\n",
    "* Very little information regarding variations in intensity\n",
    "* Thresholds are arbitrary and may not be best for all cases"
   ]
  },
  {
   "cell_type": "markdown",
   "metadata": {
    "slideshow": {
     "slide_type": "slide"
    }
   },
   "source": [
    "<h1><center>Probability Plots"
   ]
  },
  {
   "cell_type": "markdown",
   "metadata": {
    "slideshow": {
     "slide_type": "subslide"
    }
   },
   "source": [
    "If an ensemble contains a sufficient number of members and\n",
    "sufficient spread, probabilities of event occurence can be\n",
    "calculated based on the individual members. This is done at a\n",
    "single point with the following method (Schwartz and Sobash,\n",
    "2017):"
   ]
  },
  {
   "cell_type": "markdown",
   "metadata": {
    "slideshow": {
     "slide_type": "subslide"
    }
   },
   "source": [
    "# Ensemble Probability\n",
    "1. Define the Binary Probability (BR) for each member at each point for field $ f$ and threshold $ q$\n",
    "<br>\n",
    "<br>\n",
    "\\begin{equation}\n",
    "    BP(q)_{ij} = \\left\\{\n",
    "        \\begin{array}{ll}\n",
    "            1 & \\quad f_{ij} \\geq q \\\\\n",
    "            0 & \\quad f_{ij} < q\n",
    "        \\end{array}\n",
    "    \\right.\n",
    "   \\end{equation} "
   ]
  },
  {
   "cell_type": "markdown",
   "metadata": {
    "slideshow": {
     "slide_type": "subslide"
    }
   },
   "source": [
    "2. Calculate the average of ensemble member binary probabilities at each point to define the Ensemble Probability (EP)\n",
    "<br>\n",
    "<br>\n",
    "\\begin{equation}\n",
    "     EP(q)_{i} = \\frac{1}{N}\\sum^{N}_{j=1}BP_{ij}\n",
    "\\end{equation}"
   ]
  },
  {
   "cell_type": "markdown",
   "metadata": {
    "slideshow": {
     "slide_type": "subslide"
    }
   },
   "source": [
    "<center>\n",
    "![probabilities](probs.png \"Example Ensemble Probability Plot\")\n",
    "</center>"
   ]
  },
  {
   "cell_type": "markdown",
   "metadata": {
    "slideshow": {
     "slide_type": "subslide"
    }
   },
   "source": [
    "<h1><center>Neighborhood Ensemble Probability"
   ]
  },
  {
   "cell_type": "markdown",
   "metadata": {
    "slideshow": {
     "slide_type": "subslide"
    }
   },
   "source": [
    "Since the ensemble probability is valid for only a single point\n",
    "and does not account for small spatial differences in member\n",
    "solutions, the Neighborhood Ensemble Probability (NEP) can\n",
    "be defined as the probability of event occurence within a\n",
    "specified radius of any point (Schwartz and Sobash, 2017)."
   ]
  },
  {
   "cell_type": "markdown",
   "metadata": {
    "slideshow": {
     "slide_type": "subslide"
    }
   },
   "source": [
    "To calculate the NEP for a given field and threshold $q$:\n",
    "* Begin by calculating the EP at each point\n",
    "* Find all points within specified radius and calculate mean of EP\n",
    "<br>\n",
    "<br>\n",
    "\\begin{equation}\n",
    "      NEP(q)_{i} = \\frac{1}{N_b}\\sum^{N_b}_{j=1}EP_{ij}\n",
    "\\end{equation}"
   ]
  },
  {
   "cell_type": "markdown",
   "metadata": {
    "slideshow": {
     "slide_type": "subslide"
    }
   },
   "source": [
    "<center>\n",
    "![](neighbor_probs.png)\n",
    "</center>"
   ]
  },
  {
   "cell_type": "markdown",
   "metadata": {
    "slideshow": {
     "slide_type": "subslide"
    }
   },
   "source": [
    "Advantages\n",
    "* Probabilistic forecasts of specific events\n",
    "* Quickly shows ensemble confidence\n",
    "* Relatively simple to interpret\n",
    "<br>\n",
    "<br>\n",
    "\n",
    "Disadvantages\n",
    "* Probabilities are often too high due to low model spread\n",
    "* Assumes that all member solutions are equally likely\n",
    "* Limited information regarding member differences in intensity and location"
   ]
  },
  {
   "cell_type": "markdown",
   "metadata": {
    "slideshow": {
     "slide_type": "slide"
    }
   },
   "source": [
    "<h1><center>Plots Summary"
   ]
  },
  {
   "cell_type": "markdown",
   "metadata": {
    "slideshow": {
     "slide_type": "subslide"
    }
   },
   "source": [
    "1. Spaghetti Plots and Postage Stamps\n",
    "    * Best for viewing individual members, ensemble spread, range of solutions\n",
    "2. Postage Stamp Plots\n",
    "    * Best for quickly viewing spatial differences among member solutions\n",
    "3. Probability Plots\n",
    "    * Best for probability of event occurence and ensemble confidence"
   ]
  },
  {
   "cell_type": "markdown",
   "metadata": {
    "slideshow": {
     "slide_type": "slide"
    }
   },
   "source": [
    "<h1><center>Verification"
   ]
  },
  {
   "cell_type": "markdown",
   "metadata": {
    "slideshow": {
     "slide_type": "subslide"
    }
   },
   "source": [
    "There are many verification metrics available which can be placed into three categories:\n",
    "\n",
    "* Grid-point (Wolff et al., 2014)\n",
    "* Object-based (Davis et al., 2006)\n",
    "* Neighborhood approaches (Schwartz and Sobash, 2017)\n",
    "<br>\n",
    "\n",
    "One very simple approach that is often used in the Root Mean\n",
    "Square Error (RMSE)."
   ]
  },
  {
   "cell_type": "markdown",
   "metadata": {
    "slideshow": {
     "slide_type": "subslide"
    }
   },
   "source": [
    "<h1><center>Root Mean Square Error"
   ]
  },
  {
   "cell_type": "markdown",
   "metadata": {
    "slideshow": {
     "slide_type": "subslide"
    }
   },
   "source": [
    "The Root Mean Square Error is defined as:\n",
    "<br>\n",
    "<br>\n",
    "\\begin{equation}\n",
    "    RMSE = \\sqrt{\\frac{1}{N}\\sum_{i=1}^{N}(F_i - O_i)^2}\n",
    "\\end{equation}\n",
    "<br>\n",
    "* Measure of mean magnitude of forecast error\n",
    "* Same units as forecast value\n",
    "* Simple to compute and interpret\n",
    "* Useful for comparing two models, multiple members, etc.\n",
    "* Holmes (2000)"
   ]
  },
  {
   "cell_type": "markdown",
   "metadata": {
    "slideshow": {
     "slide_type": "slide"
    }
   },
   "source": [
    "<h1><center>Examples"
   ]
  },
  {
   "cell_type": "markdown",
   "metadata": {
    "slideshow": {
     "slide_type": "subslide"
    }
   },
   "source": [
    "1. Open terminal\n",
    "2. Navigate to `workshop2018` folder\n",
    "3. `source activate workshop` for mac users, `activate workshop` for windows users\n",
    "4. Type `jupyter notebook`"
   ]
  },
  {
   "cell_type": "markdown",
   "metadata": {
    "slideshow": {
     "slide_type": "slide"
    }
   },
   "source": [
    "# References\n",
    "\n",
    "<p style=\"margin-left: 40px; text-indent: -40px;\"> Davis, C., B. Brown, and R. Bullock, 2006: Object-Based Verification of Precipitation Forecasts. Part I: Methodology and Application to Mesoscale Rain Areas. *Mon. Weather Rev.*, **134 (7)**, 1772-1784.</p>\n",
    "\n",
    "<p style=\"margin-left: 40px; text-indent: -40px;\"> Holmes, S., 2000: RMS Error. URL statweb.stanford.edu/~susan/courses/s60/split/node60.html.</p>"
   ]
  },
  {
   "cell_type": "markdown",
   "metadata": {
    "slideshow": {
     "slide_type": "subslide"
    }
   },
   "source": [
    "<p style=\"margin-left:40px; text-indent: -40px;\"> Schwartz, C. S., and R. A. Sobash, 2017: Generating Probabilistic Forecasts from Convection-Allowing Ensembles Using Neighborhood Approaches: A Review and Recommendations. *Mon. Weather Rev.*, **145 (9)**, 3397-3418.</p>\n",
    "\n",
    "<p style=\"margin-left: 40px; text-indent: -40px;\"> Wolff, J. K., M. Harrold, T. Fowler, J. H. Gotway, L. Nance, and B. G. Brown, 2014: Beyond the Basics: Evaluating Model-Based Precipitation Forecasts Using Traditional, Spatial, and Object-Based Methods. *Weather Forecast.*, **29 (6)**, 1451-1472.</p>"
   ]
  }
 ],
 "metadata": {
  "celltoolbar": "Slideshow",
  "kernelspec": {
   "display_name": "Python 3",
   "language": "python",
   "name": "python3"
  },
  "language_info": {
   "codemirror_mode": {
    "name": "ipython",
    "version": 3
   },
   "file_extension": ".py",
   "mimetype": "text/x-python",
   "name": "python",
   "nbconvert_exporter": "python",
   "pygments_lexer": "ipython3",
   "version": "3.6.5"
  }
 },
 "nbformat": 4,
 "nbformat_minor": 2
}
